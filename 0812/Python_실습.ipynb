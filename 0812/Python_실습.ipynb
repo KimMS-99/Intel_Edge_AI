{
 "cells": [
  {
   "cell_type": "markdown",
   "id": "ff09964a",
   "metadata": {},
   "source": [
    "# Python 실습\n",
    "\n",
    "## 목차\n",
    "\n",
    "1. [리스트](#list)\n",
    "2. [튜플](#tuple)\n",
    "3. [딕셔너리](#dictionary)\n",
    "4. [반복문(for)](#loopfor)\n",
    "5. [문자열 포멧팅](#string-formatting)"
   ]
  },
  {
   "cell_type": "markdown",
   "id": "05434799",
   "metadata": {},
   "source": [
    "## list"
   ]
  },
  {
   "cell_type": "code",
   "execution_count": 11,
   "id": "e4931999",
   "metadata": {},
   "outputs": [
    {
     "name": "stdout",
     "output_type": "stream",
     "text": [
      "리스트\n",
      "a + a :  [1, 2, 3, 1, 2, 3]\n",
      "a :  [1, 2, 3, 4]\n"
     ]
    }
   ],
   "source": [
    "### 리스트\n",
    "a = [1, 2, 3]\n",
    "print(\"리스트\")\n",
    "print('a + a : ', a + a)\n",
    "a.append(4)\n",
    "print('a : ', a)"
   ]
  },
  {
   "cell_type": "markdown",
   "id": "c79a1249",
   "metadata": {},
   "source": [
    "## tuple"
   ]
  },
  {
   "cell_type": "code",
   "execution_count": 12,
   "id": "382b3155",
   "metadata": {},
   "outputs": [
    {
     "name": "stdout",
     "output_type": "stream",
     "text": [
      "\n",
      "튜플\n",
      "a :  <class 'tuple'> , b :  <class 'tuple'> , c :  <class 'int'> , d :  <class 'tuple'>\n"
     ]
    }
   ],
   "source": [
    "### 튜플\n",
    "a = (1, 2, 3) # 튜플 O\n",
    "b = (1, ) # 튜플 O\n",
    "c = (2) # 튜플 X\n",
    "d = a + b # 튜플 O\n",
    "\n",
    "#append(b) # 튜플은 append 불가능\n",
    "\n",
    "print(\"\\n튜플\")\n",
    "print('a : ', type(a), ', b : ', type(b), ', c : ', type(c), ', d : ', type(d))"
   ]
  },
  {
   "cell_type": "markdown",
   "id": "759f9633",
   "metadata": {},
   "source": [
    "## dictionary"
   ]
  },
  {
   "cell_type": "code",
   "execution_count": 13,
   "id": "e693c4fe",
   "metadata": {},
   "outputs": [
    {
     "name": "stdout",
     "output_type": "stream",
     "text": [
      "\n",
      "딕셔너리\n",
      "info :  {'A': 1, 'B': 2, 'C': 3}\n",
      "info['A'] :  1\n",
      "info['A'] :  3\n",
      "info['D'] :  4\n"
     ]
    }
   ],
   "source": [
    "### 딕셔너리\n",
    "print(\"\\n딕셔너리\")\n",
    "info = {'A' : 1, 'B' : 2, 'C' : 3}\n",
    "print('info : ', info)\n",
    "print(\"info['A'] : \", info['A'])\n",
    "# key 'A'를 value 3 으로 업데이트\n",
    "info['A'] = 3\n",
    "print(\"info['A'] : \", info['A'])\n",
    "# ket 'D'를 value 4로 추가\n",
    "info['D'] = 4\n",
    "print(\"info['D'] : \", info['D'])"
   ]
  },
  {
   "cell_type": "markdown",
   "id": "a32be1a6",
   "metadata": {},
   "source": [
    "## loop(for)"
   ]
  },
  {
   "cell_type": "code",
   "execution_count": 33,
   "id": "c3165120",
   "metadata": {},
   "outputs": [
    {
     "name": "stdout",
     "output_type": "stream",
     "text": [
      "1 2 3 4 Hello 5 \n",
      "\n",
      "1 2 3 4 Hello 5 \n",
      "\n",
      "[1, 2, 3, 4, 'Hello', 5]\n",
      "1 2\n",
      "3 4\n",
      "5 6\n"
     ]
    }
   ],
   "source": [
    "### 반복문\n",
    "\n",
    "items = [1, 2, 3, 4, \"Hello\", 5]\n",
    "\n",
    "# 방법 1.\n",
    "# for i in range(len(items)): #아래와 동일함\n",
    "for i in range(0, len(items)):\n",
    "    # i → 0, 1, 2, 3, ... 5\n",
    "    print(items[i], end=' ')\n",
    "\n",
    "print('\\n')\n",
    "\n",
    "# 방법 2. (방법 1과 결과는 동일)\n",
    "for i in items:\n",
    "    print(i, end=' ')\n",
    "\n",
    "print('\\n')\n",
    "\n",
    "# 한줄 for\n",
    "a = [k for k in items]\n",
    "print(a)\n",
    "\n",
    "items = [[1, 2], \n",
    "         [3, 4],\n",
    "         [5, 6]]\n",
    "for i, j in items:\n",
    "    print(i, j)"
   ]
  },
  {
   "cell_type": "markdown",
   "id": "3d4a28a5",
   "metadata": {},
   "source": [
    "## String formatting"
   ]
  },
  {
   "cell_type": "code",
   "execution_count": 25,
   "id": "95144b07",
   "metadata": {},
   "outputs": [
    {
     "name": "stdout",
     "output_type": "stream",
     "text": [
      "text1 :  수업은 9시부터 시작해서 17시에 끝납니다.\n",
      "text2 :  수업은 9시부터 시작해서 17시에 끝납니다.\n"
     ]
    }
   ],
   "source": [
    "start = 9\n",
    "end = 17\n",
    "\n",
    "text1 = \"수업은 9시부터 시작해서 17시에 끝납니다.\"\n",
    "text2 = f\"수업은 {start}시부터 시작해서 {end}시에 끝납니다.\"\n",
    "print(\"text1 : \", text1)\n",
    "print(\"text2 : \", text2)"
   ]
  }
 ],
 "metadata": {
  "kernelspec": {
   "display_name": "Python 3",
   "language": "python",
   "name": "python3"
  },
  "language_info": {
   "codemirror_mode": {
    "name": "ipython",
    "version": 3
   },
   "file_extension": ".py",
   "mimetype": "text/x-python",
   "name": "python",
   "nbconvert_exporter": "python",
   "pygments_lexer": "ipython3",
   "version": "3.13.5"
  }
 },
 "nbformat": 4,
 "nbformat_minor": 5
}
