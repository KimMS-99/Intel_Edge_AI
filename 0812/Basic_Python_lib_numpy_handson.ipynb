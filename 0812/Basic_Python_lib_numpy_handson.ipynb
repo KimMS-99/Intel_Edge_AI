{
 "cells": [
  {
   "cell_type": "markdown",
   "id": "261b2fcc",
   "metadata": {},
   "source": [
    "### 1. Numpy\n",
    "##### List 데이터형의 매트릭스 연산 속도"
   ]
  },
  {
   "cell_type": "code",
   "execution_count": 7,
   "id": "38cb22ba",
   "metadata": {},
   "outputs": [
    {
     "name": "stdout",
     "output_type": "stream",
     "text": [
      "list matmul time:  0.00015735626220703125\n"
     ]
    }
   ],
   "source": [
    "#TODO 필요한 라이브러리를 import.\n",
    "# time, random\n",
    "from random import random\n",
    "import time\n",
    "\n",
    "#TODO 행, 열의 크기를 설정.\n",
    "N=3\n",
    "\n",
    "#TODO 행렬을 초기화합니다 (list  형).\n",
    "# metA, metB, metC \n",
    "matA = []\n",
    "matB = []\n",
    "matC = []\n",
    "def make_N_by_N_list(matrix:list, n, fn):\n",
    "    for _ in range(n):\n",
    "        row = []\n",
    "        for _ in range(n):\n",
    "            row.append(random()) if fn == 1 else row.append(0)\n",
    "        matrix.append(row)\n",
    "    return matrix\n",
    "\n",
    "#TODO make_N_by_N_list를 이용해서 metA, metB, metC \n",
    "matA = make_N_by_N_list(matA, N, 1)\n",
    "matB = make_N_by_N_list(matB, N, 1)\n",
    "matC = make_N_by_N_list(matC, N, 0)\n",
    "\n",
    "# 파이썬의 리스트를 사용하여 계산합니다.\n",
    "# 시작 시간을 저장합니다.\n",
    "s1 = time.time()\n",
    "#TODO for 문을 사용하여 행렬 곱셈을 실행합니다.\n",
    "for i in range(N):\n",
    "    for j in range(N):\n",
    "        for k in range(N):\n",
    "            matC[i][j] += matA[i][k] * matB[k][j]\n",
    "s2 = time.time()\n",
    "print(\"list matmul time: \", s2-s1)\n"
   ]
  },
  {
   "cell_type": "markdown",
   "id": "4729e24b",
   "metadata": {},
   "source": [
    "### Numpy 라이브러리의 매트릭스 연산 속도"
   ]
  },
  {
   "cell_type": "code",
   "execution_count": null,
   "id": "6c25a879",
   "metadata": {},
   "outputs": [
    {
     "name": "stdout",
     "output_type": "stream",
     "text": [
      "Requirement already satisfied: numpy in /Users/gasap/Intel AI SW/Practice/Intel_Edge_AI/.venv/lib/python3.13/site-packages (2.3.2)\n",
      "Note: you may need to restart the kernel to use updated packages.\n",
      "numpy matmul time:  1.4781951904296875e-05\n"
     ]
    }
   ],
   "source": [
    "#TODO numpy 라이브러리를 import합니다.\n",
    "# hint: numpy, numpy.random.rand\n",
    "%pip install numpy\n",
    "import numpy as np\n",
    "from numpy.random import rand\n",
    "\n",
    "#TODO 행렬 세개를 numpy배열로 생성. \n",
    "#두개는 rand으로 임의의 값으로 생성하고 하나는  0으로 초기화.\n",
    "#hint: rand(n,n)\n",
    "#hint: np.zeros((n,n))\n",
    "matA = rand(N, N)\n",
    "matB = rand(N, N)\n",
    "matC = np.zeros((N, N))\n",
    "\n",
    "s1 = time.time()\n",
    "#TODO use 'matmul'\n",
    "\n",
    "s2 = time.time()\n",
    "#TODO use 'operator'\n",
    "\n",
    "matC = matA@matB # 행렬 곱 연산자\n",
    "\n",
    "print(\"numpy matmul time: \", s2 - s1)"
   ]
  },
  {
   "cell_type": "markdown",
   "id": "077234d2",
   "metadata": {},
   "source": [
    "### Practics. 1차원 배열"
   ]
  },
  {
   "cell_type": "code",
   "execution_count": 9,
   "id": "96233c7f",
   "metadata": {},
   "outputs": [
    {
     "name": "stdout",
     "output_type": "stream",
     "text": [
      "(1, 4) <class 'tuple'>\n",
      "[1 4] <class 'numpy.ndarray'>\n",
      "[[0.69229174 0.94375237 0.78518388 0.80504825]] <class 'numpy.ndarray'>\n",
      "[[0. 0. 0. 0.]] <class 'numpy.ndarray'>\n"
     ]
    }
   ],
   "source": [
    "#TODO import numpy library.\n",
    "import numpy as np\n",
    "from numpy.random import rand\n",
    "\n",
    "#TODO make arbitrary list size of (1, 4) and convert numpy array\n",
    "listA = (1, 4)    \n",
    "print(listA, type(listA))\n",
    "numpyarrayA = np.array(listA)\n",
    "print(numpyarrayA, type(numpyarrayA))\n",
    "\n",
    "#TODO make arbitrary numpy array size of (1, 4)\n",
    "numpyarrayB = rand(1, 4)\n",
    "print(numpyarrayB, type(numpyarrayB))\n",
    "\n",
    "#TODO make arbitrary numpy array size of (1, 4) with 0\n",
    "numpyarrayC = np.zeros((1, 4))  \n",
    "print(numpyarrayC, type(numpyarrayC))\n"
   ]
  },
  {
   "cell_type": "markdown",
   "id": "0ee190c9",
   "metadata": {},
   "source": [
    "##### Problem & Homework 1\n",
    "* numpy 라이브러리를 import.\n",
    "* 임의의 변수를 (1, 5)크기로 정의.\n",
    "* 변수 arr에 arr을 더해고 출력.\n",
    "* 변수 arr에 arr을 빼고 출력.\n",
    "* 변수 arr에 3제곱을 출력.\n",
    "* 1을 변수 arr로 나누어 출력.\n",
    "\n"
   ]
  },
  {
   "cell_type": "code",
   "execution_count": 10,
   "id": "8895fece",
   "metadata": {},
   "outputs": [
    {
     "name": "stdout",
     "output_type": "stream",
     "text": [
      "[[0.20042779 1.90018307 1.4214637  1.36782963 1.57546481]]\n",
      "[[0. 0. 0. 0. 0.]]\n",
      "[[0.00100643 0.85762286 0.35901892 0.31989396 0.48880556]]\n",
      "[[9.97865617 1.05253016 1.40700041 1.4621704  1.26946663]]\n",
      "[[0.10021389]\n",
      " [0.95009154]\n",
      " [0.71073185]\n",
      " [0.68391482]\n",
      " [0.78773241]]\n",
      "(5, 1)\n"
     ]
    }
   ],
   "source": [
    "import numpy as np\n",
    "from numpy.random import rand\n",
    "\n",
    "arr = rand(1, 5)\n",
    "\n",
    "# 임의의 변수 arr에 arr을 더해고 출력.\n",
    "print(arr + arr)\n",
    "\n",
    "# 임의의 변수 arr에 arr을 빼고 출력.\n",
    "print(arr - arr)\n",
    "\n",
    "# 임의의 변수 arr에 3제곱을 출력.\n",
    "print(arr ** 3)\n",
    "\n",
    "# 1을 임의의 변수 arr로 나누어 출력.\n",
    "print(1 / arr)\n",
    "\n",
    "# arr을 전치하고 결과를 출력\n",
    "print(arr.T)\n",
    "print(arr.T.shape)"
   ]
  },
  {
   "cell_type": "markdown",
   "id": "6e5df21b",
   "metadata": {},
   "source": [
    "##### 변수 indexing\n"
   ]
  },
  {
   "cell_type": "markdown",
   "id": "32644944",
   "metadata": {},
   "source": [
    "##### Problem & Homework 2 (PPT)\n",
    "* numpy 라이브러리를 import.\n",
    "* 'arr'변수명으로 numpy 배열 [1 2 3 4 5 6]를 생성.\n",
    "* 변수 arr의 요소 중 3, 4, 5만 출력.\n"
   ]
  },
  {
   "cell_type": "code",
   "execution_count": 11,
   "id": "6441ddb5",
   "metadata": {},
   "outputs": [
    {
     "name": "stdout",
     "output_type": "stream",
     "text": [
      "[3 4 5]\n",
      "[2 3 4 5 6]\n",
      "6\n",
      "[2 3 4 5 6]\n"
     ]
    }
   ],
   "source": [
    "#TODO numpy 라이브러리를 import.\n",
    "import numpy as np\n",
    "from numpy.random import rand\n",
    "\n",
    "#TODO 'arr'변수명으로 numpy 배열 [1 2 3 4 5 6]를 생성.\n",
    "arr = np.array([1, 2, 3, 4, 5, 6])\n",
    "\n",
    "#TODO 변수 arr의 요소 중 3, 4, 5만 출력.\n",
    "print(arr[2:5])\n",
    "\n",
    "#TODO 2, 3, 4, 5, 6\n",
    "print(arr[1:])\n",
    "\n",
    "#TODO 6 / 2, 3, 4, 5, 6\n",
    "print(arr[-1]) # 인덱스를 -로 뒤부터 접근 가능\n",
    "print(arr[-5:])"
   ]
  },
  {
   "cell_type": "markdown",
   "id": "06819d29",
   "metadata": {},
   "source": [
    "##### numpy 내장 함수 사용\n",
    "* 절대값 (abs)\n",
    "* 중복제거 (unique)\n",
    "* 난수 (random)\n",
    "* 합 (sum)\n",
    "* 평균 (mean)\n",
    "* 중앙값 (median)\n",
    "* 펴준편차 (stdiv)\n",
    "* 분산 (var)\n",
    "* 정렬 (sort)"
   ]
  },
  {
   "cell_type": "code",
   "execution_count": null,
   "id": "3becbff4",
   "metadata": {},
   "outputs": [
    {
     "name": "stdout",
     "output_type": "stream",
     "text": [
      "absolute [[4 5 5 1 3 5 3 4 2 4 3 2 5 4 5 0 4 1 4 4]]\n",
      "unique [-5 -4 -3 -1  0  1  2  3  4]\n",
      "summation -12\n",
      "mean -0.6\n",
      "median -0.5\n",
      "standard diviation 3.652396473549935\n",
      "variance 13.34\n",
      "sort [[-5 -5 -5 -5 -5 -4 -4 -3 -3 -1  0  1  2  2  3  4  4  4  4  4]]\n"
     ]
    }
   ],
   "source": [
    "#TODO randint\n",
    "arr = np.random.randint(low=-5, high=5, size=(1, 20))\n",
    "\n",
    "#TODO abs\n",
    "print('absolute', np.abs(arr))\n",
    "\n",
    "#TODO unique\n",
    "print('unique', np.unique(arr))\n",
    "\n",
    "#TODO sum\n",
    "print('summation', np.sum(arr))\n",
    "\n",
    "#TODO mean\n",
    "print('mean', np.mean(arr))\n",
    "\n",
    "#TODO median\n",
    "print('median', np.median(arr))\n",
    "\n",
    "#TODO stdiv\n",
    "print('standard diviation', np.std(arr))\n",
    "\n",
    "#TODO var\n",
    "print('variance', np.var(arr))\n",
    "\n",
    "#TODO sort\n",
    "print('sort', np.sort(arr))\n"
   ]
  },
  {
   "cell_type": "markdown",
   "id": "624bf671",
   "metadata": {},
   "source": [
    "### 다차원 배열\n",
    "* 변수 arr에 임의의 (4,4)의 크기를 갖는 2차원 numpy배열을 대입 후 결과를 출력.\n",
    "* 변수 arr을 전치 (transpose)를 수행하고 결과를 출력.\n",
    "\n",
    "* 2차원 배열 [[1, 2, 3],[4,5,6],[7,8,9]]을 변수 arr에 대입.\n",
    "* 변수 arr에서 index를 활용해서 [[4, 5]. [7. 8]] 만 출력."
   ]
  },
  {
   "cell_type": "code",
   "execution_count": 13,
   "id": "768c1926",
   "metadata": {},
   "outputs": [
    {
     "name": "stdout",
     "output_type": "stream",
     "text": [
      "[[0.82601891 0.90436449 0.01528931 0.97455593]\n",
      " [0.91757969 0.19387147 0.5370151  0.89703123]\n",
      " [0.76955979 0.20719176 0.16321087 0.40962937]\n",
      " [0.59820759 0.24937481 0.8121014  0.48823607]]\n",
      "arr.T : \n",
      " [[0.82601891 0.91757969 0.76955979 0.59820759]\n",
      " [0.90436449 0.19387147 0.20719176 0.24937481]\n",
      " [0.01528931 0.5370151  0.16321087 0.8121014 ]\n",
      " [0.97455593 0.89703123 0.40962937 0.48823607]]\n",
      "[[4 5]\n",
      " [7 8]]\n"
     ]
    }
   ],
   "source": [
    "# TODO 변수 arr에 임의의 (4,4)의 크기를 갖는 2차원 numpy배열을 대입 후 결과를 출력.\n",
    "arr = rand(4, 4)\n",
    "print(arr)\n",
    "\n",
    "# TODO 변수 arr을 전치 (transpose)를 수행하고 결과를 출력.\n",
    "print(\"arr.T : \\n\", arr.T)\n",
    "\n",
    "# TODO 2차원 배열 [[1, 2, 3],[4,5,6],[7,8,9]]을 변수 arr에 대입.\n",
    "arr = np.array([[1, 2, 3], [4, 5, 6], [7, 8, 9]])\n",
    "\n",
    "# TODO 변수 arr에서 index를 활용해서 [[4, 5]. [7. 8]] 만 출력.\n",
    "print(arr[1:, :2])"
   ]
  },
  {
   "cell_type": "markdown",
   "id": "dabf19b7",
   "metadata": {},
   "source": [
    "#### 행렬의 곱, 정규화, 통계함수\n",
    "* matmul, np.dot, @ 모두 행렬의 곱.\n",
    "* 정규화 (norm) 1차 2차 n차.\n",
    "* argmax"
   ]
  },
  {
   "cell_type": "code",
   "execution_count": null,
   "id": "90ed2e16",
   "metadata": {},
   "outputs": [
    {
     "name": "stdout",
     "output_type": "stream",
     "text": [
      "행렬 곱\n",
      " [[1.34902268 1.6110079  1.61283045 1.68370545 1.34717599 2.10589249\n",
      "  2.00764886 1.60111798 1.70432375 1.76619924 2.22278569 2.23457479\n",
      "  2.45086728 1.82734556 2.18032212 1.90608943]\n",
      " [0.76192024 0.81153339 1.02395365 0.72758166 0.5642354  0.97478194\n",
      "  0.80406541 0.89813904 0.72023903 1.04551875 1.13005678 1.21597393\n",
      "  0.92664827 0.63264368 1.0552481  0.81398315]\n",
      " [1.88482772 1.05503172 1.65782539 1.65035734 1.78916518 1.99350451\n",
      "  1.64204033 2.40788437 1.40790028 1.71521777 2.2818232  2.61964387\n",
      "  2.18164031 1.56624894 2.51624614 2.53480263]\n",
      " [1.37940604 1.76374149 1.98734275 1.72107204 1.0138605  2.21602839\n",
      "  2.64501366 1.84281674 1.85996636 2.63316612 2.04749126 2.40713488\n",
      "  2.25521291 2.16568765 2.40309064 2.26655732]]\n",
      "첫번째 차원에 대해 normalized\n",
      " [2.80280595 2.73455826 3.21677157 3.00832302 2.52235403 3.7775422\n",
      " 3.79072141 3.54458928 2.97743543 3.75341246 3.95180239 4.37364258\n",
      " 4.08790498 3.29890415 4.23953917 3.98224207]\n",
      "두번째 차원에 대해 1차\n",
      " [29.61090966 14.10652244 30.9041597  32.60758874]\n",
      "arr4\n",
      " [1.88482772 1.76374149 1.98734275 1.72107204 1.78916518 2.21602839\n",
      " 2.64501366 2.40788437 1.85996636 2.63316612 2.2818232  2.61964387\n",
      " 2.45086728 2.16568765 2.51624614 2.53480263]\n",
      "결과에 첫번째 차원에 대해 무한 normalized\n",
      " [1.88482772 1.76374149 1.98734275 1.72107204 1.78916518 2.21602839\n",
      " 2.64501366 2.40788437 1.85996636 2.63316612 2.2818232  2.61964387\n",
      " 2.45086728 2.16568765 2.51624614 2.53480263]\n",
      "Requirement already satisfied: scipy in /Users/gasap/Intel AI SW/Practice/Intel_Edge_AI/.venv/lib/python3.13/site-packages (1.16.1)\n",
      "Requirement already satisfied: numpy<2.6,>=1.25.2 in /Users/gasap/Intel AI SW/Practice/Intel_Edge_AI/.venv/lib/python3.13/site-packages (from scipy) (2.3.2)\n",
      "Note: you may need to restart the kernel to use updated packages.\n",
      "결과의 첫번째 차원에 대해 normalized한 결과에서 softmax적용\n",
      " [0.04253    0.03767978 0.04712128 0.03610582 0.03865002 0.05922895\n",
      " 0.0909578  0.07175563 0.04148568 0.08988653 0.06325696 0.08867924\n",
      " 0.07490714 0.05632112 0.07996813 0.08146591]\n",
      "softmax 결과에서 argmax 적용\n",
      " 6\n"
     ]
    }
   ],
   "source": [
    "# TODO 변수 arr1에 임의의 (4,8)의 크기를 갖는 2차원 numpy배열을 대입\n",
    "arr1 = rand(4, 8)\n",
    "\n",
    "#print(arr1)\n",
    "# TODO 변수 arr2에 임의의 (8,16)의 크기를 갖는 2차원 numpy배열을 대입\n",
    "arr2 = rand(8, 16)\n",
    "\n",
    "#print(arr2)\n",
    "# TODO 변수 arr1과 arr2을 행렬곱\n",
    "#arr3 = arr1 @ arr2\n",
    "arr3 = np.matmul(arr1, arr2)\n",
    "print(\"행렬 곱\\n\", arr3)\n",
    "\n",
    "# TODO 결과의 첫번째 차원에 대해 normalized\n",
    "print(\"첫번째 차원에 대해 normalized\\n\", np.linalg.norm(arr3, axis=0))\n",
    "\n",
    "# TODO 결과의 두번째 차원에 대해 1차 \n",
    "print(\"두번째 차원에 대해 1차\\n\", np.linalg.norm(arr3, axis=1, ord=1))\n",
    "\n",
    "# TODO 결과의 첫번째 차원에 대해 무한 normalized\n",
    "arr4 = np.linalg.norm(arr3, axis=0, ord=np.inf)\n",
    "print(\"arr4\\n\", arr4)\n",
    "print(\"결과에 첫번째 차원에 대해 무한 normalized\\n\", np.max(arr3, axis=0))\n",
    "\n",
    "# TODO 결과의 첫번째 차원에 대해 normalized한 결과에서 softmax적용.\n",
    "%pip install scipy\n",
    "from scipy.special import softmax\n",
    "print(\"결과의 첫번째 차원에 대해 normalized한 결과에서 softmax적용\\n\", softmax(arr4))\n",
    "\n",
    "#TODO softmax 결과에서 argmax 적용\n",
    "print(\"softmax 결과에서 argmax 적용\\n\", np.argmax(arr4))\n"
   ]
  },
  {
   "cell_type": "markdown",
   "id": "0e40a64f",
   "metadata": {},
   "source": [
    "#### 차원과 관련된 함수\n",
    "* expand_dims\n",
    "* transpose"
   ]
  },
  {
   "cell_type": "code",
   "execution_count": 32,
   "id": "6a1be117",
   "metadata": {},
   "outputs": [
    {
     "name": "stdout",
     "output_type": "stream",
     "text": [
      "arr3, i :  0\n",
      "(1, 8, 16, 32)\n",
      "arr3, i :  1\n",
      "(8, 1, 16, 32)\n",
      "arr3, i :  2\n",
      "(8, 16, 1, 32)\n",
      "arr3, i :  3\n",
      "(8, 16, 32, 1)\n",
      "arr4\n",
      "(1, 32, 8, 16)\n"
     ]
    }
   ],
   "source": [
    "import numpy as np\n",
    "from numpy.random import rand\n",
    "\n",
    "# TODO 변수 arr2에 임의의 (8,16,32)의 크기를 갖는 3차원 numpy배열을 대입\n",
    "arr2 = rand(8, 16, 32)\n",
    "\n",
    "#print(arr2)\n",
    "# TODO 변수 arr2에 expand_dims 를 통해 각 자리에 차원을 추가.\n",
    "for i in range(4):\n",
    "    print(\"arr3, i : \", i)\n",
    "    arr3 = np.expand_dims(arr2, axis=i)\n",
    "    print(arr3.shape) # 모양이 어떻게 되어있는지 보여줌 \n",
    "    \n",
    "# 결과\n",
    "# (1,8,16,32)\n",
    "# (8, 1, 16,32)\n",
    "# (8,16, 1, 32)\n",
    "# (8,16, 32, 1)\n",
    "\n",
    "# TODO (1, 8, 16, 32) 차원으로 구성된 데이터를 (1, 32, 8, 16) 형태로 변경.\n",
    "arr30 = np.expand_dims(arr2, axis=0)\n",
    "arr4 = arr30.transpose(0, 3, 1, 2)\n",
    "print(\"arr4\")\n",
    "print(arr4.shape)"
   ]
  },
  {
   "cell_type": "markdown",
   "id": "97491ae2",
   "metadata": {},
   "source": [
    "##### Q1. 1차원 배열을 선언하고 윈도우 크기가 3일 때 이동 평균을 계산.\n",
    "\n",
    "##### Q2. (N, N) 2차원 배열을 선언하고 지그제그로 나타내고, 이 2차원 배열을 1차원으로 변환.\n",
    "\n",
    "##### Q3. 1차원 배열의 각 요소의 크기의 순서를 나타내시오.\n",
    "\n",
    "##### Q4. 1차원 배열에서 연속된 부분 수열의 합이 최대가 되는 구간을 찾고, 반환.\n",
    "\n",
    "##### Q5. 2차원 배열을 90도 회전시키고, 상하 반전시키고 결과를 출력."
   ]
  },
  {
   "cell_type": "code",
   "execution_count": null,
   "id": "e61e060d",
   "metadata": {},
   "outputs": [
    {
     "name": "stdout",
     "output_type": "stream",
     "text": [
      "Q1_result\n",
      " [2, 3, 4, 5, 6, 7, 8, 9]\n"
     ]
    }
   ],
   "source": [
    "import numpy as np\n",
    "from numpy.random import rand\n",
    "\n",
    "# Q1\n",
    "arr = ([1, 2, 3, 4, 5, 6, 7, 8, 9, 10])\n",
    "window_size = 3\n",
    "Q1_result = []\n",
    "\n",
    "for i in range(len(arr) - window_size + 1):\n",
    "    Q1_result.append(int(np.mean(arr[i : window_size + i])))\n",
    "print(\"Q1_result\\n\", Q1_result)"
   ]
  },
  {
   "cell_type": "code",
   "execution_count": 2,
   "id": "ced334d6",
   "metadata": {},
   "outputs": [
    {
     "name": "stdout",
     "output_type": "stream",
     "text": [
      "arr2\n",
      " [[ 1  2  3  4  5]\n",
      " [10  9  8  7  6]\n",
      " [11 12 13 14 15]\n",
      " [20 19 18 17 16]\n",
      " [21 22 23 24 25]]\n",
      "arr2_1\n",
      " [ 1  2  3  4  5  6  7  8  9 10 11 12 13 14 15 16 17 18 19 20 21 22 23 24\n",
      " 25]\n"
     ]
    }
   ],
   "source": [
    "# Q2\n",
    "N = 5\n",
    "arr2 = np.zeros((N, N), dtype=int)\n",
    "value = 1\n",
    "\n",
    "for i in range(N):\n",
    "    for j in range(N):\n",
    "        if i % 2 == 0:\n",
    "            arr2[i][j] = value\n",
    "        else:\n",
    "            arr2[i][-j-1] = value\n",
    "        value += 1\n",
    "\n",
    "print('arr2\\n', arr2)\n",
    "\n",
    "arr2_1 = np.sort(arr2.flatten())\n",
    "print('arr2_1\\n', arr2_1)\n"
   ]
  },
  {
   "cell_type": "code",
   "execution_count": 5,
   "id": "1407918a",
   "metadata": {},
   "outputs": [
    {
     "name": "stdout",
     "output_type": "stream",
     "text": [
      "arr3_result\n",
      " [3, 2, 5, 1, 4]\n"
     ]
    }
   ],
   "source": [
    "# Q3\n",
    "arr3 = ([15, 8, 99, 0, 58])\n",
    "arr3_sort = sorted(arr3)\n",
    "arr3_result = [arr3_sort.index(i) + 1 for i in arr3]\n",
    "print('arr3_result\\n', arr3_result)"
   ]
  },
  {
   "cell_type": "code",
   "execution_count": 31,
   "id": "b5f1f134",
   "metadata": {},
   "outputs": [
    {
     "name": "stdout",
     "output_type": "stream",
     "text": [
      "pos\n",
      " [17  8]\n"
     ]
    }
   ],
   "source": [
    "\n",
    "# Q4\n",
    "arr4 = rand(20)\n",
    "arr4_result = []\n",
    "\n",
    "hw = np.floor(3 / 2).astype(int)\n",
    "\n",
    "for i in range(hw, len(arr4) - hw):\n",
    "    #print(arr4[i - hw : i + hw + 1])\n",
    "    arr4_result.append(\n",
    "        (i, np.sum(arr4[i - hw : i + hw + 1]))\n",
    "        )\n",
    "\n",
    "pos = np.argmax(arr4_result, axis=0)\n",
    "print('pos\\n', pos)"
   ]
  },
  {
   "cell_type": "code",
   "execution_count": null,
   "id": "4f0f2026",
   "metadata": {},
   "outputs": [
    {
     "name": "stdout",
     "output_type": "stream",
     "text": [
      "[[1 2 3]\n",
      " [4 5 6]\n",
      " [7 8 9]]\n",
      "[[1 4 7]\n",
      " [2 5 8]\n",
      " [3 6 9]]\n",
      "[[3 6 9]\n",
      " [2 5 8]\n",
      " [1 4 7]]\n",
      "arr5\n",
      " [[1 2 3]\n",
      " [4 5 6]\n",
      " [7 8 9]]\n",
      "arr5_90\n",
      " [[3 6 9]\n",
      " [2 5 8]\n",
      " [1 4 7]]\n",
      "arr90_flipped\n",
      " [[1 4 7]\n",
      " [2 5 8]\n",
      " [3 6 9]]\n"
     ]
    }
   ],
   "source": [
    "#Q5\n",
    "\n",
    "arr5 = np.array([[1, 2, 3],\n",
    "                [4, 5, 6],\n",
    "                [7, 8, 9]])\n",
    "\n",
    "#print(arr5)\n",
    "#print(arr5.T)\n",
    "#print(np.flip(arr5.T, axis=0))\n",
    "\n",
    "print('arr5\\n', arr5)\n",
    "\n",
    "arr5_90 = np.rot90(arr5, k=1)\n",
    "print('arr5_90\\n', arr5_90)\n",
    "\n",
    "arr90_flipped = np.flipud(arr5_90)\n",
    "print('arr90_flipped\\n', arr90_flipped)"
   ]
  },
  {
   "cell_type": "markdown",
   "id": "8cad1f8f",
   "metadata": {},
   "source": [
    "### 2. Matplotlib 라이브러리"
   ]
  },
  {
   "cell_type": "code",
   "execution_count": null,
   "id": "aa8d12af",
   "metadata": {},
   "outputs": [
    {
     "name": "stdout",
     "output_type": "stream",
     "text": [
      "Requirement already satisfied: matplotlib in ./.venv/lib/python3.13/site-packages (3.10.5)\n",
      "Requirement already satisfied: contourpy>=1.0.1 in ./.venv/lib/python3.13/site-packages (from matplotlib) (1.3.3)\n",
      "Requirement already satisfied: cycler>=0.10 in ./.venv/lib/python3.13/site-packages (from matplotlib) (0.12.1)\n",
      "Requirement already satisfied: fonttools>=4.22.0 in ./.venv/lib/python3.13/site-packages (from matplotlib) (4.59.0)\n",
      "Requirement already satisfied: kiwisolver>=1.3.1 in ./.venv/lib/python3.13/site-packages (from matplotlib) (1.4.9)\n",
      "Requirement already satisfied: numpy>=1.23 in ./.venv/lib/python3.13/site-packages (from matplotlib) (2.3.2)\n",
      "Requirement already satisfied: packaging>=20.0 in ./.venv/lib/python3.13/site-packages (from matplotlib) (25.0)\n",
      "Requirement already satisfied: pillow>=8 in ./.venv/lib/python3.13/site-packages (from matplotlib) (11.3.0)\n",
      "Requirement already satisfied: pyparsing>=2.3.1 in ./.venv/lib/python3.13/site-packages (from matplotlib) (3.2.3)\n",
      "Requirement already satisfied: python-dateutil>=2.7 in ./.venv/lib/python3.13/site-packages (from matplotlib) (2.9.0.post0)\n",
      "Requirement already satisfied: six>=1.5 in ./.venv/lib/python3.13/site-packages (from python-dateutil>=2.7->matplotlib) (1.17.0)\n",
      "Note: you may need to restart the kernel to use updated packages.\n"
     ]
    }
   ],
   "source": [
    "%pip install matplotlib\n",
    "import matplotlib.pyplot as plt\n",
    "# TODO matplotlib 라이브러리를 import\n",
    "\n",
    "x = np.linspace(0, 2*np.pi, 20)\n",
    "y = np.sin(x)"
   ]
  },
  {
   "cell_type": "code",
   "execution_count": null,
   "id": "dddd5a89",
   "metadata": {},
   "outputs": [],
   "source": [
    "# TODO xlim, ylim을 이용해서 그래프의 범위 설정 y = [0 1]"
   ]
  },
  {
   "cell_type": "code",
   "execution_count": null,
   "id": "6c943ef6",
   "metadata": {},
   "outputs": [
    {
     "data": {
      "image/png": "[encoded data removed]",
      "text/plain": [
       "<Figure size 640x480 with 1 Axes>"
      ]
     },
     "metadata": {},
     "output_type": "display_data"
    }
   ],
   "source": [
    "# TODO 그래프의 요소에 이름 설정\n",
    "# title, xlabel, ylabel\n",
    "\n",
    "import numpy as np\n",
    "import matplotlib.pyplot as plt \n",
    "\n",
    "x = np.linspace(0, 2*np.pi)\n",
    "y = np.sin(x)\n",
    "\n",
    "# 데이터 x, y를 통해 그래프에 플롯.\n",
    "plt.plot(x, y, color = 'blue')\n",
    "\n",
    "# 그래프의 제목을 설정하세요.\n",
    "plt.title('sinewave')\n",
    "\n",
    "# 그래프 x축과 y축 이름 설정\n",
    "plt.xlabel('xaxis')\n",
    "plt.ylabel('yaxis')\n",
    "\n",
    "# TODO 그래프에 그리드 표시\n",
    "plt.grid(True)\n",
    "\n",
    "# TODO 눈금표시\n",
    "plt.xticks(np.linspace(0, 2 * np.pi, 9))\n",
    "plt.yticks(np.linspace(-1, 1, 5))\n",
    "\n",
    "# TODO cos 그래프 출력\n",
    "yy = np.cos(x)\n",
    "plt.plot(x, yy, color = 'red')\n",
    "\n",
    "# TODO sin 그래프는 파란색 cos 그래프는 빨간색으로 변경\n",
    "\n",
    "# TODO legend 표시\n",
    "# TODO legend 위치 변경\n",
    "plt.legend(['sin', 'cos'], loc='upper right')\n",
    "#plt.legend(['sin', 'cos'], loc='lower left')\n",
    "\n",
    "# TODO 하나의 이미지에 서브 플롯을 2 x 3 형태로 만들고, 2, 2 위치에 상기 내용 반복\n",
    "\n",
    "# TODO 나머지 영역에 다양한 함수를 그리고 반복.\n",
    "\n",
    "\n",
    "plt.plot(x, y)\n",
    "plt.show()\n"
   ]
  },
  {
   "cell_type": "code",
   "execution_count": 121,
   "id": "a4122aad",
   "metadata": {},
   "outputs": [
    {
     "name": "stderr",
     "output_type": "stream",
     "text": [
      "/var/folders/1z/3fn44pp95tggf0zjkkj2rs0h0000gn/T/ipykernel_41626/3202427954.py:39: RuntimeWarning: divide by zero encountered in log\n",
      "  y = np.log(x)\n"
     ]
    },
    {
     "data": {
      "image/png": "[encoded data removed]",
      "text/plain": [
       "<Figure size 640x480 with 6 Axes>"
      ]
     },
     "metadata": {},
     "output_type": "display_data"
    }
   ],
   "source": [
    "# TODO 하나의 이미지에 서브 플롯을 2 x 3 형태로 만들고, 2, 2 위치에 상기 내용 반복\n",
    "import numpy as np\n",
    "import matplotlib.pyplot as plt \n",
    "\n",
    "x = np.linspace(0, 2*np.pi)\n",
    "\n",
    "for i in range(1, 7):\n",
    "    plt.subplot(2, 3, i)   \n",
    "\n",
    "    # 그래프 x축과 y축 이름 설정\n",
    "    plt.xlabel('xaxis')\n",
    "    plt.ylabel('yaxis')\n",
    "\n",
    "   # TODO 그래프에 그리드 표시\n",
    "    plt.grid(True)\n",
    "\n",
    "    # TODO 눈금표시\n",
    "    plt.xticks(np.linspace(0, 2 * np.pi, 3))\n",
    "    plt.yticks(np.linspace(-1, 1, 3))\n",
    "\n",
    "    # TODO cos 그래프 출력\n",
    "    if i == 1:\n",
    "        plt.title('sin')\n",
    "        y = np.sin(x)\n",
    "        plt.plot(x, y, color = 'red')\n",
    "        plt.legend(['sin'], loc='lower left')\n",
    "    if i == 2:\n",
    "        plt.title('cos')\n",
    "        y = np.cos(x)\n",
    "        plt.plot(x, y, color = 'blue')\n",
    "        plt.legend(['cos'], loc='upper left')\n",
    "    if i == 3:\n",
    "        plt.title('tan')\n",
    "        y = np.tan(x)\n",
    "        plt.plot(x, y, color = 'purple')\n",
    "        plt.legend(['tan'], loc='upper right')\n",
    "    if i == 4:\n",
    "        plt.title('log')\n",
    "        y = np.log(x)\n",
    "        plt.plot(x, y, color = 'green')\n",
    "        plt.legend(['log'], loc='lower right')\n",
    "    if i == 5:\n",
    "        plt.title('e^x')\n",
    "        y = np.exp(x)\n",
    "        plt.plot(x, y, color = 'yellow')\n",
    "        plt.legend(['e^x'], loc='upper left')\n",
    "    if i == 6:\n",
    "        plt.title('x^2')\n",
    "        y = x**2\n",
    "        plt.plot(x, y, color = 'pink')\n",
    "        plt.legend(['x^2'], loc='lower right')\n",
    "\n",
    "\n",
    "# TODO 나머지 영역에 다양한 함수를 그리고 반복.\n",
    "\n",
    "plt.tight_layout()\n",
    "plt.show()\n"
   ]
  }
 ],
 "metadata": {
  "kernelspec": {
   "display_name": ".venv",
   "language": "python",
   "name": "python3"
  },
  "language_info": {
   "codemirror_mode": {
    "name": "ipython",
    "version": 3
   },
   "file_extension": ".py",
   "mimetype": "text/x-python",
   "name": "python",
   "nbconvert_exporter": "python",
   "pygments_lexer": "ipython3",
   "version": "3.13.5"
  }
 },
 "nbformat": 4,
 "nbformat_minor": 5
}
