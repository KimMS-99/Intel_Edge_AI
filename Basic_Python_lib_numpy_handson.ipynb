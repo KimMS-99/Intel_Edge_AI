{
 "cells": [
  {
   "cell_type": "markdown",
   "id": "261b2fcc",
   "metadata": {},
   "source": [
    "### 1. Numpy\n",
    "##### List 데이터형의 매트릭스 연산 속도"
   ]
  },
  {
   "cell_type": "code",
   "execution_count": 3,
   "id": "38cb22ba",
   "metadata": {},
   "outputs": [
    {
     "name": "stdout",
     "output_type": "stream",
     "text": [
      "list matmul time:  0.0001380443572998047\n"
     ]
    }
   ],
   "source": [
    "#TODO 필요한 라이브러리를 import.\n",
    "# time, random\n",
    "from random import random\n",
    "import time\n",
    "\n",
    "#TODO 행, 열의 크기를 설정.\n",
    "N=3\n",
    "\n",
    "#TODO 행렬을 초기화합니다 (list  형).\n",
    "# metA, metB, metC \n",
    "matA = []\n",
    "matB = []\n",
    "matC = []\n",
    "def make_N_by_N_list(matrix:list, n, fn):\n",
    "    for _ in range(n):\n",
    "        row = []\n",
    "        for _ in range(n):\n",
    "            row.append(random()) if fn == 1 else row.append(0)\n",
    "        matrix.append(row)\n",
    "    return matrix\n",
    "\n",
    "#TODO make_N_by_N_list를 이용해서 metA, metB, metC \n",
    "matA = make_N_by_N_list(matA, N, 1)\n",
    "matB = make_N_by_N_list(matB, N, 1)\n",
    "matC = make_N_by_N_list(matC, N, 0)\n",
    "\n",
    "# 파이썬의 리스트를 사용하여 계산합니다.\n",
    "# 시작 시간을 저장합니다.\n",
    "s1 = time.time()\n",
    "#TODO for 문을 사용하여 행렬 곱셈을 실행합니다.\n",
    "for i in range(N):\n",
    "    for j in range(N):\n",
    "        for k in range(N):\n",
    "            matC[i][j] += matA[i][k] * matB[k][j]\n",
    "s2 = time.time()\n",
    "print(\"list matmul time: \", s2-s1)\n"
   ]
  },
  {
   "cell_type": "markdown",
   "id": "4729e24b",
   "metadata": {},
   "source": [
    "### Numpy 라이브러리의 매트릭스 연산 속도"
   ]
  },
  {
   "cell_type": "code",
   "execution_count": null,
   "id": "6c25a879",
   "metadata": {},
   "outputs": [
    {
     "name": "stdout",
     "output_type": "stream",
     "text": [
      "Requirement already satisfied: numpy in /Users/gasap/Coding_study/My_note/Intel_Class/.venv/lib/python3.13/site-packages (2.3.2)\n",
      "Note: you may need to restart the kernel to use updated packages.\n",
      "numpy matmul time:  8.821487426757812e-06\n"
     ]
    }
   ],
   "source": [
    "#TODO numpy 라이브러리를 import합니다.\n",
    "# hint: numpy, numpy.random.rand\n",
    "%pip install numpy\n",
    "import numpy as np\n",
    "from numpy.random import rand\n",
    "\n",
    "#TODO 행렬 세개를 numpy배열로 생성. \n",
    "#두개는 rand으로 임의의 값으로 생성하고 하나는  0으로 초기화.\n",
    "#hint: rand(n,n)\n",
    "#hint: np.zeros((n,n))\n",
    "matA = rand(N,N)\n",
    "matB = rand(N,N)\n",
    "matC = np.zeros((N,N))\n",
    "\n",
    "s1 = time.time()\n",
    "#TODO use 'matmul'\n",
    "\n",
    "s2 = time.time()\n",
    "#TODO use 'operator'\n",
    "\n",
    "matC = matA@matB # 행렬 곱 연산자\n",
    "\n",
    "print(\"numpy matmul time: \", s2-s1)"
   ]
  },
  {
   "cell_type": "markdown",
   "id": "077234d2",
   "metadata": {},
   "source": [
    "### Practics. 1차원 배열"
   ]
  },
  {
   "cell_type": "code",
   "execution_count": null,
   "id": "96233c7f",
   "metadata": {},
   "outputs": [],
   "source": [
    "#TODO import numpy library.\n",
    "import numpy as np\n",
    "from numpy.random import rand\n",
    "#TODO make arbitrary list size of (1, 4) and convert numpy array\n",
    "listA = (1, 4)    \n",
    "print(listA, type(listA))\n",
    "numpyarrayA = np.array(listA)\n",
    "print(numpyarrayA, type(numpyarrayA))\n",
    "#TODO make arbitrary numpy array size of (1, 4)\n",
    "numpyarrayB = rand(1, 4)\n",
    "print(numpyarrayB, type(numpyarrayB))\n",
    "\n",
    "#TODO make arbitrary numpy array size of (1, 4) with 0\n",
    "numpyarrayC = np.zeros((1, 4))  \n",
    "print(numpyarrayC, type(numpyarrayC))\n"
   ]
  },
  {
   "cell_type": "markdown",
   "id": "0ee190c9",
   "metadata": {},
   "source": [
    "##### Problem & Homework 1\n",
    "* numpy 라이브러리를 import.\n",
    "* 임의의 변수를 (1, 5)크기로 정의.\n",
    "* 변수 arr에 arr을 더해고 출력.\n",
    "* 변수 arr에 arr을 빼고 출력.\n",
    "* 변수 arr에 3제곱을 출력.\n",
    "* 1을 변수 arr로 나누어 출력.\n",
    "\n"
   ]
  },
  {
   "cell_type": "code",
   "execution_count": 5,
   "id": "8895fece",
   "metadata": {},
   "outputs": [
    {
     "name": "stdout",
     "output_type": "stream",
     "text": [
      "[[0.64349423 0.89066323 0.15655096 0.97889212 1.13971253]]\n",
      "[[0. 0. 0. 0. 0.]]\n",
      "[[0.03330765 0.08831828 0.0004796  0.11725045 0.18505293]]\n",
      "[[ 3.10803096  2.24551764 12.77539299  2.04312606  1.75482848]]\n",
      "[[0.32174712]\n",
      " [0.44533162]\n",
      " [0.07827548]\n",
      " [0.48944606]\n",
      " [0.56985626]]\n",
      "(5, 1)\n"
     ]
    }
   ],
   "source": [
    "import numpy as np\n",
    "from numpy.random import rand\n",
    "\n",
    "arr = rand(1, 5)\n",
    "\n",
    "# 임의의 변수 arr에 arr을 더해고 출력.\n",
    "print(arr + arr)\n",
    "# 임의의 변수 arr에 arr을 빼고 출력.\n",
    "print(arr - arr)\n",
    "# 임의의 변수 arr에 3제곱을 출력.\n",
    "print(arr ** 3)\n",
    "# 1을 임의의 변수 arr로 나누어 출력.\n",
    "print(1 / arr)\n",
    "# arr을 전치하고 결과를 출력\n",
    "print(arr.T)\n",
    "print(arr.T.shape)"
   ]
  },
  {
   "cell_type": "markdown",
   "id": "6e5df21b",
   "metadata": {},
   "source": [
    "##### 변수 indexing\n"
   ]
  },
  {
   "cell_type": "markdown",
   "id": "32644944",
   "metadata": {},
   "source": [
    "##### Problem & Homework 2 (PPT)\n",
    "* numpy 라이브러리를 import.\n",
    "* 'arr'변수명으로 numpy 배열 [1 2 3 4 5 6]를 생성.\n",
    "* 변수 arr의 요소 중 3, 4, 5만 출력.\n"
   ]
  },
  {
   "cell_type": "code",
   "execution_count": null,
   "id": "6441ddb5",
   "metadata": {},
   "outputs": [],
   "source": [
    "#TODO numpy 라이브러리를 import.\n",
    "import numpy as np\n",
    "from numpy.random import rand\n",
    "#TODO 'arr'변수명으로 numpy 배열 [1 2 3 4 5 6]를 생성.\n",
    "arr = np.array([1, 2, 3, 4, 5, 6])\n",
    "#TODO 변수 arr의 요소 중 3, 4, 5만 출력.\n",
    "print(arr[2:5])\n",
    "#TODO 2, 3, 4, 5, 6\n",
    "print(arr[1:])\n",
    "#TODO 6 / 2, 3, 4, 5, 6\n",
    "print(arr[-1]) # 인덱스를 -로 뒤부터 접근 가능\n",
    "print(arr[-5:])"
   ]
  },
  {
   "cell_type": "markdown",
   "id": "06819d29",
   "metadata": {},
   "source": [
    "##### numpy 내장 함수 사용\n",
    "* 절대값 (abs)\n",
    "* 중복제거 (unique)\n",
    "* 난수 (random)\n",
    "* 합 (sum)\n",
    "* 평균 (mean)\n",
    "* 중앙값 (median)\n",
    "* 펴준편차 (stdiv)\n",
    "* 분산 (var)\n",
    "* 정렬 (sort)"
   ]
  },
  {
   "cell_type": "code",
   "execution_count": null,
   "id": "3becbff4",
   "metadata": {},
   "outputs": [],
   "source": [
    "#TODO abs\n",
    "\n",
    "#TODO unique\n",
    "\n",
    "#TODO random\n",
    "\n",
    "#TODO sum\n",
    "\n",
    "#TODO mean\n",
    "\n",
    "#TODO median\n",
    "\n",
    "#TODO stdiv\n",
    "\n",
    "#TODO var\n",
    "\n",
    "#TODO sort"
   ]
  },
  {
   "cell_type": "markdown",
   "id": "624bf671",
   "metadata": {},
   "source": [
    "### 다차원 배열\n",
    "* 변수 arr에 임의의 (4,4)의 크기를 갖는 2차원 numpy배열을 대입 후 결과를 출력.\n",
    "* 변수 arr을 전치 (transpose)를 수행하고 결과를 출력.\n",
    "\n",
    "* 2차원 배열 [[1, 2, 3],[4,5,6],[7,8,9]]을 변수 arr에 대입.\n",
    "* 변수 arr에서 index를 활용해서 [[4, 5]. [7. 8]] 만 출력."
   ]
  },
  {
   "cell_type": "code",
   "execution_count": null,
   "id": "768c1926",
   "metadata": {},
   "outputs": [],
   "source": [
    "# TODO 변수 arr에 임의의 (4,4)의 크기를 갖는 2차원 numpy배열을 대입 후 결과를 출력.\n",
    "\n",
    "# TODO 변수 arr을 전치 (transpose)를 수행하고 결과를 출력.\n",
    "\n",
    "# TODO 2차원 배열 [[1, 2, 3],[4,5,6],[7,8,9]]을 변수 arr에 대입.\n",
    "\n",
    "# TODO 변수 arr에서 index를 활용해서 [[4, 5]. [7. 8]] 만 출력."
   ]
  },
  {
   "cell_type": "markdown",
   "id": "dabf19b7",
   "metadata": {},
   "source": [
    "#### 행렬의 곱, 정규화, 통계함수\n",
    "* matmul, np.dot, @ 모두 행렬의 곱.\n",
    "* 정규화 (norm) 1차 2차 n차.\n",
    "* argmax"
   ]
  },
  {
   "cell_type": "code",
   "execution_count": null,
   "id": "90ed2e16",
   "metadata": {},
   "outputs": [],
   "source": [
    "# TODO 변수 arr1에 임의의 (4,8)의 크기를 갖는 2차원 numpy배열을 대입\n",
    "\n",
    "# TODO 변수 arr2에 임의의 (8,16)의 크기를 갖는 2차원 numpy배열을 대입\n",
    "\n",
    "# TODO 변수 arr1과 arr2을 행렬곱\n",
    "\n",
    "# TODO 결과의 첫번째 차원에 대해 normalized\n",
    "\n",
    "# TODO 결과의 두번째 차원에 대해 1차 normalized\n",
    "\n",
    "# TODO 결과의 첫번째 차원에 대해 무한 normalized\n",
    "\n",
    "# TODO 결과의 첫번째 차원에 대해 normalized한 결과에서 softmax적용.\n",
    "\n"
   ]
  },
  {
   "cell_type": "markdown",
   "id": "0e40a64f",
   "metadata": {},
   "source": [
    "#### 차원과 관련된 함수\n",
    "* expand_dims\n",
    "* transpose"
   ]
  },
  {
   "cell_type": "code",
   "execution_count": null,
   "id": "6a1be117",
   "metadata": {},
   "outputs": [],
   "source": [
    "# TODO 변수 arr2에 임의의 (8,16,32)의 크기를 갖는 2차원 numpy배열을 대입\n",
    "\n",
    "# TODO 변수 arr2에 expand_dims 를 통해 각 자리에 차원을 추가.\n",
    "# 결과\n",
    "# (1,8,16,32)\n",
    "# (8, 1, 16,32)\n",
    "# (8,16, 1, 32)\n",
    "# (8,16, 32, 1)\n",
    "\n",
    "# TODO (1, 8, 16, 32) 차원으로 구성된 데이터를 (1, 32, 8, 16) 형태로 변경.\n"
   ]
  },
  {
   "cell_type": "markdown",
   "id": "97491ae2",
   "metadata": {},
   "source": [
    "##### Q1. 1차원 배열을 선언하고 윈도우 크기가 3일 때 이동 평균을 계산.\n",
    "\n",
    "##### Q2. (N, N) 2차원 배열을 선언하고 지그제그로 나타내고, 이 2차원 배열을 1차원으로 변환.\n",
    "\n",
    "##### Q3. 1차원 배열의 각 요소의 크기의 순서를 나타내시오.\n",
    "\n",
    "##### Q4. 1차원 배열에서 연속된 부분 수열의 합이 최대가 되는 구간을 찾고, 반환.\n",
    "\n",
    "##### Q5. 2차원 배열을 90도 회전시키고, 상하 반전시키고 결과를 출력."
   ]
  },
  {
   "cell_type": "markdown",
   "id": "8cad1f8f",
   "metadata": {},
   "source": [
    "### 2. Matplotlib 라이브러리"
   ]
  },
  {
   "cell_type": "code",
   "execution_count": null,
   "id": "aa8d12af",
   "metadata": {},
   "outputs": [],
   "source": [
    "# TODO matplotlib 라이브러리를 import\n",
    "\n",
    "x = np.linspace(0, 2*np.pi, 20)\n",
    "y = np.sin(x)\n",
    "\n",
    "# TODO 데이터 x, y를 그래프에 플롯.\n"
   ]
  },
  {
   "cell_type": "code",
   "execution_count": null,
   "id": "dddd5a89",
   "metadata": {},
   "outputs": [],
   "source": [
    "# TODO xlim, ylim을 이용해서 그래프의 범위 설정 y = [0 1]"
   ]
  },
  {
   "cell_type": "code",
   "execution_count": null,
   "id": "6c943ef6",
   "metadata": {},
   "outputs": [
    {
     "ename": "ModuleNotFoundError",
     "evalue": "No module named 'matplotlib'",
     "output_type": "error",
     "traceback": [
      "\u001b[31m---------------------------------------------------------------------------\u001b[39m",
      "\u001b[31mModuleNotFoundError\u001b[39m                       Traceback (most recent call last)",
      "\u001b[36mCell\u001b[39m\u001b[36m \u001b[39m\u001b[32mIn[7]\u001b[39m\u001b[32m, line 5\u001b[39m\n\u001b[32m      1\u001b[39m \u001b[38;5;66;03m# TODO 그래프의 요소에 이름 설정\u001b[39;00m\n\u001b[32m      2\u001b[39m \u001b[38;5;66;03m# title, xlabel, ylabel\u001b[39;00m\n\u001b[32m      4\u001b[39m \u001b[38;5;28;01mimport\u001b[39;00m\u001b[38;5;250m \u001b[39m\u001b[34;01mnumpy\u001b[39;00m\u001b[38;5;250m \u001b[39m\u001b[38;5;28;01mas\u001b[39;00m\u001b[38;5;250m \u001b[39m\u001b[34;01mnp\u001b[39;00m\n\u001b[32m----> \u001b[39m\u001b[32m5\u001b[39m \u001b[38;5;28;01mfrom\u001b[39;00m\u001b[38;5;250m \u001b[39m\u001b[34;01mmatplotlib\u001b[39;00m\u001b[34;01m.\u001b[39;00m\u001b[34;01mpyplot\u001b[39;00m\u001b[38;5;250m \u001b[39m\u001b[38;5;28;01mimport\u001b[39;00m plt \n\u001b[32m      7\u001b[39m x = np.linspace(\u001b[32m0\u001b[39m, \u001b[32m2\u001b[39m*np.pi)\n\u001b[32m      9\u001b[39m \u001b[38;5;66;03m# 그래프의 제목을 설정하세요.\u001b[39;00m\n\u001b[32m     10\u001b[39m \n\u001b[32m     11\u001b[39m \u001b[38;5;66;03m# 그래프 x축과 y축 이름 설정\u001b[39;00m\n\u001b[32m     12\u001b[39m \n\u001b[32m     13\u001b[39m \u001b[38;5;66;03m# TODO 그래프에 그리드 표시\u001b[39;00m\n",
      "\u001b[31mModuleNotFoundError\u001b[39m: No module named 'matplotlib'"
     ]
    }
   ],
   "source": [
    "# TODO 그래프의 요소에 이름 설정\n",
    "# title, xlabel, ylabel\n",
    "\n",
    "import numpy as np\n",
    "import matplotlib.pyplot as plt \n",
    "\n",
    "x = np.linspace(0, 2*np.pi)\n",
    "y = np.sin(x)\n",
    "# 그래프의 제목을 설정하세요.\n",
    "\n",
    "# 그래프 x축과 y축 이름 설정\n",
    "\n",
    "# TODO 그래프에 그리드 표시\n",
    "\n",
    "# TODO 눈금표시\n",
    "\n",
    "# TODO cos 그래프 출력\n",
    "\n",
    "# TODO sin 그래프는 파란색 cos 그래프는 빨간색으로 변경\n",
    "\n",
    "# TODO legend 표시\n",
    "\n",
    "# TODO legend 위치 변경\n",
    "\n",
    "# TODO 하나의 이미지에 서브 플롯을 2 x 3 형태로 만들고, 2, 2 위치에 상기 내용 반복\n",
    "\n",
    "# TODO 나머지 영역에 다양한 함수를 그리고 반복.\n",
    "\n",
    "\n",
    "plt.plot(x, y)\n",
    "plt.show()\n"
   ]
  },
  {
   "cell_type": "code",
   "execution_count": 20,
   "id": "a4122aad",
   "metadata": {},
   "outputs": [
    {
     "name": "stdout",
     "output_type": "stream",
     "text": [
      "Requirement already satisfied: matplotlib in /home/intel/workspace/40_AI/.venv/lib/python3.12/site-packages (3.10.5)\n",
      "Requirement already satisfied: contourpy>=1.0.1 in /home/intel/workspace/40_AI/.venv/lib/python3.12/site-packages (from matplotlib) (1.3.3)\n",
      "Requirement already satisfied: cycler>=0.10 in /home/intel/workspace/40_AI/.venv/lib/python3.12/site-packages (from matplotlib) (0.12.1)\n",
      "Requirement already satisfied: fonttools>=4.22.0 in /home/intel/workspace/40_AI/.venv/lib/python3.12/site-packages (from matplotlib) (4.59.0)\n",
      "Requirement already satisfied: kiwisolver>=1.3.1 in /home/intel/workspace/40_AI/.venv/lib/python3.12/site-packages (from matplotlib) (1.4.9)\n",
      "Requirement already satisfied: numpy>=1.23 in /home/intel/workspace/40_AI/.venv/lib/python3.12/site-packages (from matplotlib) (2.3.2)\n",
      "Requirement already satisfied: packaging>=20.0 in /home/intel/workspace/40_AI/.venv/lib/python3.12/site-packages (from matplotlib) (25.0)\n",
      "Requirement already satisfied: pillow>=8 in /home/intel/workspace/40_AI/.venv/lib/python3.12/site-packages (from matplotlib) (11.3.0)\n",
      "Requirement already satisfied: pyparsing>=2.3.1 in /home/intel/workspace/40_AI/.venv/lib/python3.12/site-packages (from matplotlib) (3.2.3)\n",
      "Requirement already satisfied: python-dateutil>=2.7 in /home/intel/workspace/40_AI/.venv/lib/python3.12/site-packages (from matplotlib) (2.9.0.post0)\n",
      "Requirement already satisfied: six>=1.5 in /home/intel/workspace/40_AI/.venv/lib/python3.12/site-packages (from python-dateutil>=2.7->matplotlib) (1.17.0)\n",
      "\n",
      "\u001b[1m[\u001b[0m\u001b[34;49mnotice\u001b[0m\u001b[1;39;49m]\u001b[0m\u001b[39;49m A new release of pip is available: \u001b[0m\u001b[31;49m25.1.1\u001b[0m\u001b[39;49m -> \u001b[0m\u001b[32;49m25.2\u001b[0m\n",
      "\u001b[1m[\u001b[0m\u001b[34;49mnotice\u001b[0m\u001b[1;39;49m]\u001b[0m\u001b[39;49m To update, run: \u001b[0m\u001b[32;49mpip install --upgrade pip\u001b[0m\n",
      "Note: you may need to restart the kernel to use updated packages.\n"
     ]
    },
    {
     "data": {
      "image/png": "[encoded data removed]",
      "text/plain": [
       "<Figure size 640x480 with 1 Axes>"
      ]
     },
     "metadata": {},
     "output_type": "display_data"
    }
   ],
   "source": []
  },
  {
   "cell_type": "code",
   "execution_count": null,
   "id": "09e2bb40",
   "metadata": {},
   "outputs": [],
   "source": []
  }
 ],
 "metadata": {
  "kernelspec": {
   "display_name": ".venv",
   "language": "python",
   "name": "python3"
  },
  "language_info": {
   "codemirror_mode": {
    "name": "ipython",
    "version": 3
   },
   "file_extension": ".py",
   "mimetype": "text/x-python",
   "name": "python",
   "nbconvert_exporter": "python",
   "pygments_lexer": "ipython3",
   "version": "3.13.5"
  }
 },
 "nbformat": 4,
 "nbformat_minor": 5
}
